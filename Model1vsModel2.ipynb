{
  "nbformat": 4,
  "nbformat_minor": 0,
  "metadata": {
    "colab": {
      "name": "Jagriti Project.ipynb",
      "provenance": [],
      "collapsed_sections": [],
      "include_colab_link": true
    },
    "kernelspec": {
      "name": "python3",
      "display_name": "Python 3"
    }
  },
  "cells": [
    {
      "cell_type": "markdown",
      "metadata": {
        "id": "view-in-github",
        "colab_type": "text"
      },
      "source": [
        "<a href=\"https://colab.research.google.com/github/JagritiPrakash/An-Understanding-of-Covid-19-in-India/blob/master/Model1vsModel2.ipynb\" target=\"_parent\"><img src=\"https://colab.research.google.com/assets/colab-badge.svg\" alt=\"Open In Colab\"/></a>"
      ]
    },
    {
      "cell_type": "markdown",
      "metadata": {
        "id": "zhkIqDTntj-I",
        "colab_type": "text"
      },
      "source": [
        "Total days = 55\n",
        "Each entry is number of deaths on a day."
      ]
    },
    {
      "cell_type": "code",
      "metadata": {
        "id": "yQE8erxvrdW5",
        "colab_type": "code",
        "colab": {}
      },
      "source": [
        "import numpy as np\n",
        "from numpy import log,exp\n",
        "d = [7,2, 1,1,5,3,5,3,13,6,9,14,14,13,22,16,27,20,46,22,40,42,27,37,27,26,38,35,38,33,53,36,40,59,44,56,58,69,71,75,77,92,140,103,128,91,104,97,115,112,81,120,137,97,104,119,]\n",
        "a = np.zeros(np.size(d))\n",
        "b = np.zeros(np.size(d))\n",
        "a2 = np.zeros(np.size(d))\n",
        "b2 = np.zeros(np.size(d))\n",
        "p = np.zeros(np.size(d))            #Represents the predicted value of y on the next day\n",
        "r = np.zeros(np.size(d))            #Represents the predicted value of the next to next day\n",
        "\n",
        "y = np.zeros(np.size(d))\n",
        "\n",
        "error = np.zeros(np.size(d))\n",
        "error2 = np.zeros(np.size(d))\n",
        "sum = 0                     #Created to store\n",
        "for j in range(0,np.size(d)):\n",
        "  sum = sum + d[j]\n",
        "  y[j] = sum\n",
        "\n",
        "#a[j+1] = log( (y[j] - y[j+1] * np.exp(1)) / (y[j-1] - y[j] * np.exp(1) )  )\n",
        "#b[j+1] = a[j+1] * ( y[j] (y[j] - y[j+1] * np.exp(1)) - y[j+1] * (y[j-1] - y[j] * np.exp(1)) / (y[j] - y[j+1] * np.exp(1)) * np.exp(j-1)  )\n",
        "#p[j+1] = y[j] * np.exp(a[j]) - ( b[j] * np.exp(a[j] - j ) ) / a[j]"
      ],
      "execution_count": 0,
      "outputs": []
    },
    {
      "cell_type": "markdown",
      "metadata": {
        "id": "77gflYEAyE95",
        "colab_type": "text"
      },
      "source": [
        "Now, we'd make predictions on the next day and compute the error. Our $a_j, b_j$ change at even values, and remain fixed for odd values. "
      ]
    },
    {
      "cell_type": "code",
      "metadata": {
        "id": "R_MdkHIBtTdn",
        "colab_type": "code",
        "colab": {}
      },
      "source": [
        "\n",
        "a[0] = 0.15\n",
        "b[0] = -0.304\n",
        "for j in range(0, np.size(d)-1):\n",
        "  if ((j+1)%2 == 0):\n",
        "    a[j+1] = log( abs ( (y[j] - y[j+1] * np.exp(1)) / (y[j-1] - y[j] * np.exp(1) ) ) )\n",
        "    b[j+1] = a[j+1] * ( y[j] * (y[j] - y[j+1] * np.exp(1)) - y[j+1] \n",
        "                       * (y[j-1] - y[j] * np.exp(1)) / \n",
        "                       ((y[j] - y[j+1] * np.exp(1)) * np.exp(j-1) ) )\n",
        "  else:\n",
        "    a[j+1] = a[j]\n",
        "    b[j+1] = b[j]\n",
        "  p[j+1] = y[j] * np.exp(a[j]) - ( b[j] * np.exp(a[j] - j ) ) / a[j]\n",
        "  if j < np.size(d) -2:\n",
        "    a2[j+1] = log( abs ( (y[j] - p[j+1] * np.exp(1)) / (y[j-1] - y[j] * np.exp(1) ) ) )\n",
        "    b2[j+1] = a2[j+1] * ( y[j] * (y[j] - p[j+1] * np.exp(1)) - p[j+1] \n",
        "                       * (y[j-1] - y[j] * np.exp(1)) / \n",
        "                       ((y[j] - p[j+1] * np.exp(1)) * np.exp(j-1) ) )\n",
        "    r[j+2] = p[j+1] * np.exp(a2[j+1])- ( b2[j+1] * np.exp(a2[j+1] - (j+1)) ) / a2[j+1]\n",
        "    error2[j+1] = abs(r[j+2] - y[j+2])\n",
        "\n",
        "\n",
        "  error[j+1] = abs(p[j+1] - y[j+1])\n",
        "  print('1 - day prediction on day ', j,' = ')\n",
        "  print(y[j], ' - ', p[j], ' = ', error[j] )\n",
        "  print('2 - day prediction on day ', j, ' = ' )\n",
        "  print(y[j], ' - ', r[j], ' = ', y[j] - r[j] )\n",
        "  print('')\n",
        "\n",
        "\n"
      ],
      "execution_count": 0,
      "outputs": []
    },
    {
      "cell_type": "markdown",
      "metadata": {
        "id": "BRjW7riLX2Em",
        "colab_type": "text"
      },
      "source": [
        "Now, let's compare our new scheme with the old scheme"
      ]
    },
    {
      "cell_type": "code",
      "metadata": {
        "id": "61dzRmpSujPF",
        "colab_type": "code",
        "colab": {}
      },
      "source": [
        "olda1 = np.zeros(np.size(d))     \n",
        "olda2 = np.zeros(np.size(d))\n",
        "olderror1 = np.zeros(np.size(d)) #1 day prediction with old method\n",
        "olderror2 = np.zeros(np.size(d)) #2 day prediction with old method\n",
        "q = np.zeros(np.size(d))\n",
        "s = np.zeros(np.size(d))\n",
        "for j in range(1, np.size(d)-1):\n",
        "  olda1[j+1] = log(y[j+1]/y[j])\n",
        "  q[j+1] = y[j]*np.exp(olda1[j])\n",
        "  if j < np.size(d)-2:\n",
        "    olda2[j+1] = log(q[j+1]/y[j])\n",
        "    s[j+2] = q[j+1]*np.exp(olda2[j+1])\n",
        "    olderror2[j+2] = abs(s[j+2] - y[j+2])\n",
        "  olderror1[j+1] = abs(q[j+1] - y[j+1])\n",
        "  print(\"In 1 day prediction Error on day \", j, \" is \",olderror1[j+1])\n",
        "  print(\"In 2 day prediction Error on day \", j, \" is \",olderror2[j+1])\n",
        "  if olderror1[j+1]<error[j+1]:\n",
        "    print(\"In 1 day prediction, Old Scheme Wins by \", abs(olderror1[j+1] - error[j+1]))\n",
        "  else:\n",
        "    print(\"In 1 day prediction, New Scheme wins by \", abs(olderror1[j+1] - error[j+1]))\n",
        "  if olderror2[j+1]<error2[j+1]:\n",
        "    print(\"In 2 day prediction, Old Scheme Wins by \", abs(olderror2[j+1] - error2[j+1]))\n",
        "  else:\n",
        "    print(\"In 2 day prediction, New Scheme wins by \", abs(olderror2[j+1] - error2[j+1]))\n",
        "  print(\"\")"
      ],
      "execution_count": 0,
      "outputs": []
    },
    {
      "cell_type": "code",
      "metadata": {
        "id": "ov3ai4qGFSzn",
        "colab_type": "code",
        "colab": {}
      },
      "source": [
        ""
      ],
      "execution_count": 0,
      "outputs": []
    }
  ]
}